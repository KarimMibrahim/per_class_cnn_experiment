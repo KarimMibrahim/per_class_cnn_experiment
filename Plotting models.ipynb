{
 "cells": [
  {
   "cell_type": "code",
   "execution_count": 1,
   "metadata": {},
   "outputs": [
    {
     "name": "stderr",
     "output_type": "stream",
     "text": [
      "Using TensorFlow backend.\n"
     ]
    }
   ],
   "source": [
    "# Deep Learning\n",
    "import tensorflow as tf\n",
    "#from tensorflow.keras.models import Sequential\n",
    "#from tensorflow.keras.layers import InputLayer, Conv2D, MaxPooling2D, TimeDistributed, Flatten, GRU, Dropout, Dense\n",
    "from keras.models import Sequential\n",
    "from keras.layers import InputLayer, Conv2D, MaxPooling2D, TimeDistributed, Flatten, GRU, Dropout, Dense,BatchNormalization\n",
    "#from tensorflow.keras.callbacks import ModelCheckpoint, TensorBoard\n",
    "from keras import optimizers"
   ]
  },
  {
   "cell_type": "markdown",
   "metadata": {},
   "source": [
    "## C1 time"
   ]
  },
  {
   "cell_type": "code",
   "execution_count": 2,
   "metadata": {},
   "outputs": [],
   "source": [
    "FRAMES_NUMBER = 646\n",
    "INPUT_SHAPE = (FRAMES_NUMBER, 96, 1)\n",
    "model = Sequential([\n",
    "InputLayer(input_shape=INPUT_SHAPE, name=\"input_layer\"),\n",
    "\n",
    "BatchNormalization(),\n",
    "\n",
    "Conv2D(activation=\"relu\", filters=32, kernel_size=[1, 60], name=\"conv_1\", padding=\"same\"),\n",
    "MaxPooling2D(name=\"max_pool_1\", padding=\"valid\", pool_size=[96, 1]),\n",
    "\n",
    "#Conv2D(activation=\"relu\", filters=64, kernel_size=[3, 3], name=\"conv_2\", padding=\"same\", use_bias=True),\n",
    "#MaxPooling2D(name=\"max_pool_2\", padding=\"valid\", pool_size=[2, 2]),\n",
    "\n",
    "\n",
    "# TimeDistributed(layer=Flatten(name=\"Flatten\"), name=\"TD_Flatten\"),\n",
    "# GRU(activation=\"tanh\", dropout=0.1, name=\"gru_1\", recurrent_activation=\"hard_sigmoid\", recurrent_dropout=0.1,\n",
    "#        return_sequences=False, trainable=True, units=512, use_bias=True),\n",
    "\n",
    "# Dropout(name=\"dropout_1\", rate=0.3),\n",
    "# Dense(activation=\"sigmoid\", name=\"dense_1\", trainable=True, units=20),\n",
    "\n",
    "Flatten(),\n",
    "Dense(200, activation='sigmoid', name=\"dense_1\"),\n",
    "Dropout(name=\"dropout_1\", rate=0.5),\n",
    "Dense(1, activation='sigmoid', name=\"dense_2\"),\n",
    "])"
   ]
  },
  {
   "cell_type": "code",
   "execution_count": 3,
   "metadata": {},
   "outputs": [
    {
     "name": "stdout",
     "output_type": "stream",
     "text": [
      "_________________________________________________________________\n",
      "Layer (type)                 Output Shape              Param #   \n",
      "=================================================================\n",
      "input_layer (InputLayer)     (None, 646, 96, 1)        0         \n",
      "_________________________________________________________________\n",
      "batch_normalization_1 (Batch (None, 646, 96, 1)        4         \n",
      "_________________________________________________________________\n",
      "conv_1 (Conv2D)              (None, 646, 96, 32)       1952      \n",
      "_________________________________________________________________\n",
      "max_pool_1 (MaxPooling2D)    (None, 6, 96, 32)         0         \n",
      "_________________________________________________________________\n",
      "flatten_1 (Flatten)          (None, 18432)             0         \n",
      "_________________________________________________________________\n",
      "dense_1 (Dense)              (None, 200)               3686600   \n",
      "_________________________________________________________________\n",
      "dropout_1 (Dropout)          (None, 200)               0         \n",
      "_________________________________________________________________\n",
      "dense_2 (Dense)              (None, 1)                 201       \n",
      "=================================================================\n",
      "Total params: 3,688,757\n",
      "Trainable params: 3,688,755\n",
      "Non-trainable params: 2\n",
      "_________________________________________________________________\n"
     ]
    }
   ],
   "source": [
    "model.summary()"
   ]
  },
  {
   "cell_type": "markdown",
   "metadata": {},
   "source": [
    "## C1 frequency "
   ]
  },
  {
   "cell_type": "code",
   "execution_count": 9,
   "metadata": {},
   "outputs": [],
   "source": [
    "    model = Sequential(\n",
    "        [\n",
    "            InputLayer(input_shape=INPUT_SHAPE, name=\"input_layer\"),\n",
    "\n",
    "            BatchNormalization(),\n",
    "\n",
    "            Conv2D(activation=\"relu\", filters=32, kernel_size=[32, 1], name=\"conv_1\", padding=\"same\"),\n",
    "            MaxPooling2D(name=\"max_pool_1\", padding=\"valid\", pool_size=[1, 80]),\n",
    "\n",
    "            #Conv2D(activation=\"relu\", filters=64, kernel_size=[3, 3], name=\"conv_2\", padding=\"same\", use_bias=True),\n",
    "            #MaxPooling2D(name=\"max_pool_2\", padding=\"valid\", pool_size=[2, 2]),\n",
    "\n",
    "\n",
    "            # TimeDistributed(layer=Flatten(name=\"Flatten\"), name=\"TD_Flatten\"),\n",
    "            # GRU(activation=\"tanh\", dropout=0.1, name=\"gru_1\", recurrent_activation=\"hard_sigmoid\", recurrent_dropout=0.1,\n",
    "            #        return_sequences=False, trainable=True, units=512, use_bias=True),\n",
    "\n",
    "            # Dropout(name=\"dropout_1\", rate=0.3),\n",
    "            # Dense(activation=\"sigmoid\", name=\"dense_1\", trainable=True, units=20),\n",
    "\n",
    "            Flatten(),\n",
    "            Dense(200, activation='sigmoid', name=\"dense_1\"),\n",
    "            Dropout(name=\"dropout_1\", rate=0.5),\n",
    "            Dense(1, activation='sigmoid', name=\"dense_2\"),\n",
    "        ]\n",
    "    )"
   ]
  },
  {
   "cell_type": "code",
   "execution_count": 10,
   "metadata": {},
   "outputs": [
    {
     "name": "stdout",
     "output_type": "stream",
     "text": [
      "_________________________________________________________________\n",
      "Layer (type)                 Output Shape              Param #   \n",
      "=================================================================\n",
      "input_layer (InputLayer)     (None, 646, 96, 1)        0         \n",
      "_________________________________________________________________\n",
      "batch_normalization_4 (Batch (None, 646, 96, 1)        4         \n",
      "_________________________________________________________________\n",
      "conv_1 (Conv2D)              (None, 646, 96, 32)       1056      \n",
      "_________________________________________________________________\n",
      "max_pool_1 (MaxPooling2D)    (None, 646, 1, 32)        0         \n",
      "_________________________________________________________________\n",
      "flatten_4 (Flatten)          (None, 20672)             0         \n",
      "_________________________________________________________________\n",
      "dense_1 (Dense)              (None, 200)               4134600   \n",
      "_________________________________________________________________\n",
      "dropout_1 (Dropout)          (None, 200)               0         \n",
      "_________________________________________________________________\n",
      "dense_2 (Dense)              (None, 1)                 201       \n",
      "=================================================================\n",
      "Total params: 4,135,861\n",
      "Trainable params: 4,135,859\n",
      "Non-trainable params: 2\n",
      "_________________________________________________________________\n"
     ]
    }
   ],
   "source": [
    "model.summary()"
   ]
  },
  {
   "cell_type": "markdown",
   "metadata": {},
   "source": [
    "## C2 square"
   ]
  },
  {
   "cell_type": "code",
   "execution_count": 4,
   "metadata": {},
   "outputs": [],
   "source": [
    "    model = Sequential(\n",
    "        [\n",
    "            InputLayer(input_shape=INPUT_SHAPE, name=\"input_layer\"),\n",
    "\n",
    "            BatchNormalization(),\n",
    "\n",
    "            Conv2D(activation=\"relu\", filters=32, kernel_size=[3, 3], name=\"conv_1\", padding=\"same\"),\n",
    "            MaxPooling2D(name=\"max_pool_1\", padding=\"valid\", pool_size=[2, 2]),\n",
    "\n",
    "            Conv2D(activation=\"relu\", filters=64, kernel_size=[3, 3], name=\"conv_2\", padding=\"same\", use_bias=True),\n",
    "            MaxPooling2D(name=\"max_pool_2\", padding=\"valid\", pool_size=[2, 2]),\n",
    "\n",
    "\n",
    "            # TimeDistributed(layer=Flatten(name=\"Flatten\"), name=\"TD_Flatten\"),\n",
    "            # GRU(activation=\"tanh\", dropout=0.1, name=\"gru_1\", recurrent_activation=\"hard_sigmoid\", recurrent_dropout=0.1,\n",
    "            #        return_sequences=False, trainable=True, units=512, use_bias=True),\n",
    "\n",
    "            # Dropout(name=\"dropout_1\", rate=0.3),\n",
    "            # Dense(activation=\"sigmoid\", name=\"dense_1\", trainable=True, units=20),\n",
    "\n",
    "            Flatten(),\n",
    "            Dense(128, activation='sigmoid', name=\"dense_1\"),\n",
    "            Dropout(name=\"dropout_1\", rate=0.3),\n",
    "            Dense(1, activation='sigmoid', name=\"dense_2\"),\n",
    "        ]\n",
    "    )"
   ]
  },
  {
   "cell_type": "code",
   "execution_count": 5,
   "metadata": {},
   "outputs": [
    {
     "name": "stdout",
     "output_type": "stream",
     "text": [
      "_________________________________________________________________\n",
      "Layer (type)                 Output Shape              Param #   \n",
      "=================================================================\n",
      "input_layer (InputLayer)     (None, 646, 96, 1)        0         \n",
      "_________________________________________________________________\n",
      "batch_normalization_2 (Batch (None, 646, 96, 1)        4         \n",
      "_________________________________________________________________\n",
      "conv_1 (Conv2D)              (None, 646, 96, 32)       320       \n",
      "_________________________________________________________________\n",
      "max_pool_1 (MaxPooling2D)    (None, 323, 48, 32)       0         \n",
      "_________________________________________________________________\n",
      "conv_2 (Conv2D)              (None, 323, 48, 64)       18496     \n",
      "_________________________________________________________________\n",
      "max_pool_2 (MaxPooling2D)    (None, 161, 24, 64)       0         \n",
      "_________________________________________________________________\n",
      "flatten_2 (Flatten)          (None, 247296)            0         \n",
      "_________________________________________________________________\n",
      "dense_1 (Dense)              (None, 128)               31654016  \n",
      "_________________________________________________________________\n",
      "dropout_1 (Dropout)          (None, 128)               0         \n",
      "_________________________________________________________________\n",
      "dense_2 (Dense)              (None, 1)                 129       \n",
      "=================================================================\n",
      "Total params: 31,672,965\n",
      "Trainable params: 31,672,963\n",
      "Non-trainable params: 2\n",
      "_________________________________________________________________\n"
     ]
    }
   ],
   "source": [
    "model.summary()"
   ]
  },
  {
   "cell_type": "markdown",
   "metadata": {},
   "source": [
    "## C4 square"
   ]
  },
  {
   "cell_type": "code",
   "execution_count": 11,
   "metadata": {},
   "outputs": [],
   "source": [
    "    model = Sequential(\n",
    "        [\n",
    "            InputLayer(input_shape=INPUT_SHAPE, name=\"input_layer\"),\n",
    "\n",
    "            BatchNormalization(),\n",
    "\n",
    "            Conv2D(activation=\"relu\", filters=32, kernel_size=[3, 3], name=\"conv_1\", padding=\"same\"),\n",
    "            MaxPooling2D(name=\"max_pool_1\", padding=\"valid\", pool_size=[2, 2]),\n",
    "\n",
    "            Conv2D(activation=\"relu\", filters=64, kernel_size=[3, 3], name=\"conv_2\", padding=\"same\", use_bias=True),\n",
    "            MaxPooling2D(name=\"max_pool_2\", padding=\"valid\", pool_size=[2, 2]),\n",
    "\n",
    "            Conv2D(activation=\"relu\", filters=128, kernel_size=[3, 3], name=\"conv_3\", padding=\"same\", use_bias=True),\n",
    "            MaxPooling2D(name=\"max_pool_3\", padding=\"valid\", pool_size=[2, 2]),\n",
    "\n",
    "            Conv2D(activation=\"relu\", filters=256, kernel_size=[3, 3], name=\"conv_4\", padding=\"same\", use_bias=True),\n",
    "            MaxPooling2D(name=\"max_pool_4\", padding=\"valid\", pool_size=[2, 2]),\n",
    "\n",
    "            # TimeDistributed(layer=Flatten(name=\"Flatten\"), name=\"TD_Flatten\"),\n",
    "            # GRU(activation=\"tanh\", dropout=0.1, name=\"gru_1\", recurrent_activation=\"hard_sigmoid\", recurrent_dropout=0.1,\n",
    "            #        return_sequences=False, trainable=True, units=512, use_bias=True),\n",
    "\n",
    "            # Dropout(name=\"dropout_1\", rate=0.3),\n",
    "            # Dense(activation=\"sigmoid\", name=\"dense_1\", trainable=True, units=20),\n",
    "\n",
    "            Flatten(),\n",
    "            Dense(256, activation='sigmoid', name=\"dense_1\"),\n",
    "            Dropout(name=\"dropout_1\", rate=0.3),\n",
    "            Dense(1, activation='sigmoid', name=\"dense_2\"),\n",
    "        ]\n",
    "    )"
   ]
  },
  {
   "cell_type": "code",
   "execution_count": 12,
   "metadata": {},
   "outputs": [
    {
     "name": "stdout",
     "output_type": "stream",
     "text": [
      "_________________________________________________________________\n",
      "Layer (type)                 Output Shape              Param #   \n",
      "=================================================================\n",
      "input_layer (InputLayer)     (None, 646, 96, 1)        0         \n",
      "_________________________________________________________________\n",
      "batch_normalization_5 (Batch (None, 646, 96, 1)        4         \n",
      "_________________________________________________________________\n",
      "conv_1 (Conv2D)              (None, 646, 96, 32)       320       \n",
      "_________________________________________________________________\n",
      "max_pool_1 (MaxPooling2D)    (None, 323, 48, 32)       0         \n",
      "_________________________________________________________________\n",
      "conv_2 (Conv2D)              (None, 323, 48, 64)       18496     \n",
      "_________________________________________________________________\n",
      "max_pool_2 (MaxPooling2D)    (None, 161, 24, 64)       0         \n",
      "_________________________________________________________________\n",
      "conv_3 (Conv2D)              (None, 161, 24, 128)      73856     \n",
      "_________________________________________________________________\n",
      "max_pool_3 (MaxPooling2D)    (None, 80, 12, 128)       0         \n",
      "_________________________________________________________________\n",
      "conv_4 (Conv2D)              (None, 80, 12, 256)       295168    \n",
      "_________________________________________________________________\n",
      "max_pool_4 (MaxPooling2D)    (None, 40, 6, 256)        0         \n",
      "_________________________________________________________________\n",
      "flatten_5 (Flatten)          (None, 61440)             0         \n",
      "_________________________________________________________________\n",
      "dense_1 (Dense)              (None, 256)               15728896  \n",
      "_________________________________________________________________\n",
      "dropout_1 (Dropout)          (None, 256)               0         \n",
      "_________________________________________________________________\n",
      "dense_2 (Dense)              (None, 1)                 257       \n",
      "=================================================================\n",
      "Total params: 16,116,997\n",
      "Trainable params: 16,116,995\n",
      "Non-trainable params: 2\n",
      "_________________________________________________________________\n"
     ]
    }
   ],
   "source": [
    "model.summary()"
   ]
  },
  {
   "cell_type": "markdown",
   "metadata": {},
   "source": [
    "## C1 Square"
   ]
  },
  {
   "cell_type": "code",
   "execution_count": 26,
   "metadata": {},
   "outputs": [],
   "source": [
    "FRAMES_NUMBER = 646\n",
    "INPUT_SHAPE = (FRAMES_NUMBER, 96, 1)\n",
    "model = Sequential([\n",
    "InputLayer(input_shape=INPUT_SHAPE, name=\"input_layer\"),\n",
    "\n",
    "BatchNormalization(),\n",
    "\n",
    "Conv2D(activation=\"relu\", filters=32, kernel_size=[12, 12], name=\"conv_1\", padding=\"same\"),\n",
    "MaxPooling2D(name=\"max_pool_1\", padding=\"valid\", pool_size=[10,10]),\n",
    "\n",
    "#Conv2D(activation=\"relu\", filters=64, kernel_size=[3, 3], name=\"conv_2\", padding=\"same\", use_bias=True),\n",
    "#MaxPooling2D(name=\"max_pool_2\", padding=\"valid\", pool_size=[2, 2]),\n",
    "\n",
    "\n",
    "# TimeDistributed(layer=Flatten(name=\"Flatten\"), name=\"TD_Flatten\"),\n",
    "# GRU(activation=\"tanh\", dropout=0.1, name=\"gru_1\", recurrent_activation=\"hard_sigmoid\", recurrent_dropout=0.1,\n",
    "#        return_sequences=False, trainable=True, units=512, use_bias=True),\n",
    "\n",
    "# Dropout(name=\"dropout_1\", rate=0.3),\n",
    "# Dense(activation=\"sigmoid\", name=\"dense_1\", trainable=True, units=20),\n",
    "\n",
    "Flatten(),\n",
    "Dense(128, activation='sigmoid', name=\"dense_1\"),\n",
    "Dropout(name=\"dropout_1\", rate=0.5),\n",
    "Dense(1, activation='sigmoid', name=\"dense_2\"),\n",
    "])"
   ]
  },
  {
   "cell_type": "code",
   "execution_count": 27,
   "metadata": {},
   "outputs": [
    {
     "name": "stdout",
     "output_type": "stream",
     "text": [
      "_________________________________________________________________\n",
      "Layer (type)                 Output Shape              Param #   \n",
      "=================================================================\n",
      "input_layer (InputLayer)     (None, 646, 96, 1)        0         \n",
      "_________________________________________________________________\n",
      "batch_normalization_12 (Batc (None, 646, 96, 1)        4         \n",
      "_________________________________________________________________\n",
      "conv_1 (Conv2D)              (None, 646, 96, 32)       4640      \n",
      "_________________________________________________________________\n",
      "max_pool_1 (MaxPooling2D)    (None, 64, 9, 32)         0         \n",
      "_________________________________________________________________\n",
      "flatten_12 (Flatten)         (None, 18432)             0         \n",
      "_________________________________________________________________\n",
      "dense_1 (Dense)              (None, 128)               2359424   \n",
      "_________________________________________________________________\n",
      "dropout_1 (Dropout)          (None, 128)               0         \n",
      "_________________________________________________________________\n",
      "dense_2 (Dense)              (None, 1)                 129       \n",
      "=================================================================\n",
      "Total params: 2,364,197\n",
      "Trainable params: 2,364,195\n",
      "Non-trainable params: 2\n",
      "_________________________________________________________________\n"
     ]
    }
   ],
   "source": [
    "model.summary()"
   ]
  },
  {
   "cell_type": "code",
   "execution_count": null,
   "metadata": {},
   "outputs": [],
   "source": []
  }
 ],
 "metadata": {
  "kernelspec": {
   "display_name": "env_tf_1.2",
   "language": "python",
   "name": "env_tf_1.2"
  },
  "language_info": {
   "codemirror_mode": {
    "name": "ipython",
    "version": 3
   },
   "file_extension": ".py",
   "mimetype": "text/x-python",
   "name": "python",
   "nbconvert_exporter": "python",
   "pygments_lexer": "ipython3",
   "version": "3.5.3"
  }
 },
 "nbformat": 4,
 "nbformat_minor": 2
}
