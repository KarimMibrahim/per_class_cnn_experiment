{
 "cells": [
  {
   "cell_type": "code",
   "execution_count": 20,
   "metadata": {},
   "outputs": [],
   "source": [
    "import numpy as np\n",
    "import pandas as pd"
   ]
  },
  {
   "cell_type": "code",
   "execution_count": 2,
   "metadata": {},
   "outputs": [],
   "source": [
    "import os\n",
    "PATH_TO_RESULTS = '/cluster/storage/kibrahim/per_class_classifier/experiments/'\n",
    "IDS_PATH = '/cluster/storage/kibrahim/per_class_classifier/GroundTruth/'\n",
    "SPECTROGRAM_PATH = \"/cluster/storage/kibrahim/mel_specs/\"\n",
    "directories = ['car_Per_class_/2019-04-15_13-30-13','chill_Per_class_/2019-04-15_14-25-36',\n",
    "               'club_Per_class_/2019-04-15_15-44-42','dance_Per_class_/2019-04-15_16-27-11',\n",
    "              'gym_Per_class_/2019-04-15_17-57-34','happy_Per_class_/2019-04-15_18-34-12',\n",
    "               'morning_Per_class_/2019-04-15_18-51-05',\n",
    "              'night_Per_class_/2019-04-15_19-03-58','park_Per_class_/2019-04-15_19-21-25',\n",
    "               'party_Per_class_/2019-04-15_19-47-24','relax_Per_class_/2019-04-15_21-09-31',\n",
    "              'running_Per_class_/2019-04-15_21-55-19','sad_Per_class_/2019-04-15_22-25-30',\n",
    "              'shower_Per_class_/2019-04-15_22-47-12','sleep_Per_class_/2019-04-15_22-58-28',\n",
    "              'summer_Per_class_/2019-04-15_23-22-40','train_Per_class_/2019-04-15_23-58-12',\n",
    "              'training_Per_class_/2019-04-16_00-10-45','work_Per_class_/2019-04-16_00-38-51',\n",
    "              'workout_Per_class_/2019-04-16_01-18-23']\n",
    "labels = ['car','chill','club','dance','gym','happy','morning','night','park','party','relax','running',\n",
    "         'sad','shower','sleep','summer','train','training','work','workout']"
   ]
  },
  {
   "cell_type": "code",
   "execution_count": 3,
   "metadata": {},
   "outputs": [],
   "source": [
    "# Plotting confusion matrix\n",
    "from sklearn.utils.multiclass import unique_labels\n",
    "import matplotlib.pyplot as plt\n",
    "from sklearn.metrics import confusion_matrix\n",
    "\n",
    "def plot_confusion_matrix(y_true, y_pred, classes,\n",
    "                          normalize=False,\n",
    "                          title=None,\n",
    "                          cmap=plt.cm.Blues):\n",
    "    \"\"\"\n",
    "    This function prints and plots the confusion matrix.\n",
    "    Normalization can be applied by setting `normalize=True`.\n",
    "    \"\"\"\n",
    "    if not title:\n",
    "        if normalize:\n",
    "            title = 'Normalized confusion matrix'\n",
    "        else:\n",
    "            title = 'Confusion matrix, without normalization'\n",
    "\n",
    "    # Compute confusion matrix\n",
    "    cm = confusion_matrix(y_true, y_pred)\n",
    "    # Only use the labels that appear in the data\n",
    "    #classes = classes[unique_labels(y_true, y_pred)]\n",
    "    if normalize:\n",
    "        cm = cm.astype('float') / cm.sum(axis=1)[:, np.newaxis]\n",
    "        print(\"Normalized confusion matrix\")\n",
    "    else:\n",
    "        print('Confusion matrix, without normalization')\n",
    "\n",
    "    print(cm)\n",
    "\n",
    "    fig, ax = plt.subplots()\n",
    "    im = ax.imshow(cm, interpolation='nearest', cmap=cmap)\n",
    "    ax.figure.colorbar(im, ax=ax)\n",
    "    # We want to show all ticks...\n",
    "    ax.set(xticks=np.arange(cm.shape[1]),\n",
    "           yticks=np.arange(cm.shape[0]),\n",
    "           # ... and label them with the respective list entries\n",
    "           xticklabels=classes, yticklabels=classes,\n",
    "           title=title,\n",
    "           ylabel='True label',\n",
    "           xlabel='Predicted label')\n",
    "\n",
    "    # Rotate the tick labels and set their alignment.\n",
    "    plt.setp(ax.get_xticklabels(), rotation=45, ha=\"right\",\n",
    "             rotation_mode=\"anchor\")\n",
    "\n",
    "    # Loop over data dimensions and create text annotations.\n",
    "    fmt = '.2f' if normalize else 'd'\n",
    "    thresh = cm.max() / 2.\n",
    "    for i in range(cm.shape[0]):\n",
    "        for j in range(cm.shape[1]):\n",
    "            ax.text(j, i, format(cm[i, j], fmt),\n",
    "                    ha=\"center\", va=\"center\",\n",
    "                    color=\"white\" if cm[i, j] > thresh else \"black\")\n",
    "    fig.tight_layout()\n",
    "    return ax,fig"
   ]
  },
  {
   "cell_type": "code",
   "execution_count": 4,
   "metadata": {},
   "outputs": [],
   "source": [
    "def get_predictions_classes(path):\n",
    "    predictions_probs = np.loadtxt(os.path.join(path , 'predictions.out'))\n",
    "    test_classes = np.loadtxt(os.path.join(path , 'test_ground_truth_classes.txt'))\n",
    "    predictions = np.round(predictions_probs)\n",
    "    return predictions,test_classes"
   ]
  },
  {
   "cell_type": "code",
   "execution_count": 5,
   "metadata": {},
   "outputs": [],
   "source": [
    "# extracting TP,TN,FP,FN\n",
    "def get_TP_TN_FP_FN(songs_ID,predictions,test_classes):\n",
    "    true_positives = [x for x in range(len(songs_ID)) if predictions[x] == test_classes[x] and predictions[x] == 1]\n",
    "    true_negatives = [x for x in range(len(songs_ID)) if predictions[x] == test_classes[x] and predictions[x] == 0]\n",
    "    false_positives = [x for x in range(len(songs_ID)) if predictions[x] != test_classes[x] and predictions[x] == 1]\n",
    "    false_negatives = [x for x in range(len(songs_ID)) if predictions[x] != test_classes[x] and predictions[x] == 0]\n",
    "    return true_positives,true_negatives,false_positives,false_negatives"
   ]
  },
  {
   "cell_type": "code",
   "execution_count": 6,
   "metadata": {},
   "outputs": [],
   "source": [
    "# get song_ids\n",
    "def get_song_ids(label):\n",
    "    test_ground_truth = pd.read_csv(IDS_PATH+label+'_test_groundtruth.csv')\n",
    "    songs_ID = np.zeros([len(test_ground_truth), 1])\n",
    "    for idx, filename in enumerate(list(test_ground_truth.song_id)):\n",
    "        songs_ID[idx] = filename\n",
    "    songs_ID = songs_ID.astype(int)\n",
    "    return songs_ID"
   ]
  },
  {
   "cell_type": "code",
   "execution_count": 11,
   "metadata": {},
   "outputs": [
    {
     "ename": "SyntaxError",
     "evalue": "invalid syntax (<ipython-input-11-0ba3b5a025c6>, line 10)",
     "output_type": "error",
     "traceback": [
      "\u001b[0;36m  File \u001b[0;32m\"<ipython-input-11-0ba3b5a025c6>\"\u001b[0;36m, line \u001b[0;32m10\u001b[0m\n\u001b[0;31m    f.writelines(\"https://www.deezer.com/en/track/\"+str(    with open(os.path.join(PATH_TO_RESULTS,path,label+\"_sample_tracks.txt\"),'w')as f:\u001b[0m\n\u001b[0m                                                               ^\u001b[0m\n\u001b[0;31mSyntaxError\u001b[0m\u001b[0;31m:\u001b[0m invalid syntax\n"
     ]
    }
   ],
   "source": [
    "# reading predictions and groundtruth\n",
    "for path,label in zip(directories,labels):\n",
    "    predictions,test_classes = get_predictions_classes(os.path.join(PATH_TO_RESULTS,path))\n",
    "    songs_ID = get_song_ids(label)\n",
    "    true_positives,true_negatives,false_positives,false_negatives = get_TP_TN_FP_FN(songs_ID,\n",
    "                                                                                    predictions,test_classes)\n",
    "    # saving tracks for TP,TN..\n",
    "    with open(os.path.join(PATH_TO_RESULTS,path,label+\"_true_positives.txt\"),'w')as f:\n",
    "        for x in true_positives:\n",
    "            f.writelines(\"https://www.deezer.com/en/track/\"+str(    with open(os.path.join(PATH_TO_RESULTS,path,label+\"_sample_tracks.txt\"),'w')as f:\n",
    "        for x in false_negatives:\n",
    "            f.writelines(\"https://www.deezer.com/en/track/\"+str(int(songs_ID[x])) + \"\\n\")int(songs_ID[x])) + \"\\n\")\n",
    "\n",
    "    with open(os.path.join(PATH_TO_RESULTS,path,label+\"_true_negatives.txt\"),'w')as f:\n",
    "        for x in true_negatives:\n",
    "            f.writelines(\"https://www.deezer.com/en/track/\"+str(int(songs_ID[x])) + \"\\n\")\n",
    "\n",
    "    with open(os.path.join(PATH_TO_RESULTS,path,label+\"_false_positives.txt\"),'w')as f:\n",
    "        for x in false_positives:\n",
    "            f.writelines(\"https://www.deezer.com/en/track/\"+str(int(songs_ID[x])) + \"\\n\")\n",
    "\n",
    "    with open(os.path.join(PATH_TO_RESULTS,path,label+\"_false_negatives.txt\"),'w')as f:\n",
    "        for x in false_negatives:\n",
    "            f.writelines(\"https://www.deezer.com/en/track/\"+str(int(songs_ID[x])) + \"\\n\")\n",
    "\n",
    "    with open(os.path.join(PATH_TO_RESULTS,path,\"dataset_split_size.txt\"),'w') as f:\n",
    "        f.writelines(\"Train datset size: \" + str(int(np.ceil(len(songs_ID) * 4.0 * 0.9))) + \"\\n\")\n",
    "        f.writelines(\"validation datset size: \" + str(int(np.floor(len(songs_ID) * 4.0 * 0.1))) + \"\\n\")\n",
    "        f.writelines(\"Test datset size: \" + str(len(songs_ID)) + \"\\n\")  \n",
    "        \n",
    "    ax,fig =plot_confusion_matrix(test_classes,predictions,[\"Negative\",\"Positive\"],title=\"Confusion Matrix for Class : \" + label)\n",
    "    fig.savefig(os.path.join(PATH_TO_RESULTS,path,label + \"_confusion_matrix.png\"))\n",
    "    fig.savefig(os.path.join(PATH_TO_RESULTS,path,label + \"_confusion_matrix.pdf\"), format='pdf')"
   ]
  },
  {
   "cell_type": "code",
   "execution_count": null,
   "metadata": {},
   "outputs": [],
   "source": []
  },
  {
   "cell_type": "code",
   "execution_count": null,
   "metadata": {},
   "outputs": [],
   "source": []
  },
  {
   "cell_type": "markdown",
   "metadata": {},
   "source": [
    "## Checking testsets splits"
   ]
  },
  {
   "cell_type": "code",
   "execution_count": 17,
   "metadata": {},
   "outputs": [],
   "source": [
    "dance_test = pd.read_csv('GroundTruth/sleep_train_groundtruth.csv')"
   ]
  },
  {
   "cell_type": "code",
   "execution_count": 18,
   "metadata": {},
   "outputs": [
    {
     "data": {
      "text/plain": [
       "0.503782457575138"
      ]
     },
     "execution_count": 18,
     "metadata": {},
     "output_type": "execute_result"
    }
   ],
   "source": [
    "sum(dance_test.binary_label.values)/ len(dance_test)"
   ]
  },
  {
   "cell_type": "code",
   "execution_count": null,
   "metadata": {},
   "outputs": [],
   "source": []
  },
  {
   "cell_type": "code",
   "execution_count": null,
   "metadata": {},
   "outputs": [],
   "source": []
  }
 ],
 "metadata": {
  "kernelspec": {
   "display_name": "env_tf",
   "language": "python",
   "name": "env_tf"
  },
  "language_info": {
   "codemirror_mode": {
    "name": "ipython",
    "version": 3
   },
   "file_extension": ".py",
   "mimetype": "text/x-python",
   "name": "python",
   "nbconvert_exporter": "python",
   "pygments_lexer": "ipython3",
   "version": "3.5.3"
  }
 },
 "nbformat": 4,
 "nbformat_minor": 2
}
